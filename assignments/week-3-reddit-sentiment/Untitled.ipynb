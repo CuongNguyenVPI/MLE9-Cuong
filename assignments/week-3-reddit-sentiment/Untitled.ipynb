{
 "cells": [
  {
   "cell_type": "code",
   "execution_count": 8,
   "id": "99a7ffa3",
   "metadata": {},
   "outputs": [
    {
     "ename": "ModuleNotFoundError",
     "evalue": "No module named 'secrects_reddit'",
     "output_type": "error",
     "traceback": [
      "\u001b[0;31m---------------------------------------------------------------------------\u001b[0m",
      "\u001b[0;31mModuleNotFoundError\u001b[0m                       Traceback (most recent call last)",
      "Input \u001b[0;32mIn [8]\u001b[0m, in \u001b[0;36m<cell line: 2>\u001b[0;34m()\u001b[0m\n\u001b[1;32m      1\u001b[0m \u001b[38;5;28;01mimport\u001b[39;00m \u001b[38;5;21;01mpraw\u001b[39;00m\n\u001b[0;32m----> 2\u001b[0m \u001b[38;5;28;01mimport\u001b[39;00m \u001b[38;5;21;01msecrects_reddit\u001b[39;00m\n\u001b[1;32m      3\u001b[0m reddit \u001b[38;5;241m=\u001b[39m praw\u001b[38;5;241m.\u001b[39mReddit(\n\u001b[1;32m      4\u001b[0m         client_id\u001b[38;5;241m=\u001b[39msecrets\u001b[38;5;241m.\u001b[39mREDDIT_API_CLIENT_ID,        \n\u001b[1;32m      5\u001b[0m         client_secret\u001b[38;5;241m=\u001b[39msecrets\u001b[38;5;241m.\u001b[39mREDDIT_API_CLIENT_SECRET,\n\u001b[1;32m      6\u001b[0m         user_agent\u001b[38;5;241m=\u001b[39msecrets\u001b[38;5;241m.\u001b[39mREDDIT_API_USER_AGENT\n\u001b[1;32m      7\u001b[0m     )\n\u001b[1;32m      8\u001b[0m reddit\n",
      "\u001b[0;31mModuleNotFoundError\u001b[0m: No module named 'secrects_reddit'"
     ]
    }
   ],
   "source": [
    "import praw\n",
    "import secrects_reddit\n",
    "reddit = praw.Reddit(\n",
    "        client_id=secrets.REDDIT_API_CLIENT_ID,        \n",
    "        client_secret=secrets.REDDIT_API_CLIENT_SECRET,\n",
    "        user_agent=secrets.REDDIT_API_USER_AGENT\n",
    "    )\n",
    "reddit"
   ]
  },
  {
   "cell_type": "raw",
   "id": "470f6177",
   "metadata": {},
   "source": []
  }
 ],
 "metadata": {
  "kernelspec": {
   "display_name": "Python 3 (ipykernel)",
   "language": "python",
   "name": "python3"
  },
  "language_info": {
   "codemirror_mode": {
    "name": "ipython",
    "version": 3
   },
   "file_extension": ".py",
   "mimetype": "text/x-python",
   "name": "python",
   "nbconvert_exporter": "python",
   "pygments_lexer": "ipython3",
   "version": "3.8.13"
  }
 },
 "nbformat": 4,
 "nbformat_minor": 5
}
